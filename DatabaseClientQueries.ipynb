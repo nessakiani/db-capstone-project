{
 "cells": [
  {
   "cell_type": "code",
   "execution_count": 1,
   "id": "5bfff6e5-c57b-470b-9ad7-6090b183c271",
   "metadata": {},
   "outputs": [
    {
     "name": "stdout",
     "output_type": "stream",
     "text": [
      "Requirement already satisfied: mysql-connector-python in c:\\users\\nessa\\appdata\\local\\programs\\python\\python311\\lib\\site-packages (8.1.0)\n",
      "Requirement already satisfied: protobuf<=4.21.12,>=4.21.1 in c:\\users\\nessa\\appdata\\local\\programs\\python\\python311\\lib\\site-packages (from mysql-connector-python) (4.21.12)\n"
     ]
    }
   ],
   "source": [
    "!pip install mysql-connector-python"
   ]
  },
  {
   "cell_type": "code",
   "execution_count": 2,
   "id": "741ad7ff-96da-4673-bcbe-2eef6ca9381b",
   "metadata": {},
   "outputs": [],
   "source": [
    "import mysql.connector as connector"
   ]
  },
  {
   "cell_type": "code",
   "execution_count": 20,
   "id": "a9b007e5-4cf4-4c3e-9b79-c383bfe16430",
   "metadata": {},
   "outputs": [],
   "source": [
    "connection = connector.connect(user = \"root\", password = \"secret\", db = \"littlelemondm\")"
   ]
  },
  {
   "cell_type": "code",
   "execution_count": 5,
   "id": "b5fd4279-900b-4ab6-bba7-49777621289a",
   "metadata": {},
   "outputs": [
    {
     "data": {
      "text/plain": [
       "<mysql.connector.connection_cext.CMySQLConnection at 0x166de94c3d0>"
      ]
     },
     "execution_count": 5,
     "metadata": {},
     "output_type": "execute_result"
    }
   ],
   "source": [
    "connector.connect(user = \"root\", password = \"secret\", db = \"littlelemondm\")"
   ]
  },
  {
   "cell_type": "code",
   "execution_count": 21,
   "id": "f6cbc76a-cc8e-4556-b090-c8fa635e352f",
   "metadata": {},
   "outputs": [],
   "source": [
    "cursor1 = connection.cursor()"
   ]
  },
  {
   "cell_type": "code",
   "execution_count": 22,
   "id": "702dd7d3-8f8b-4227-ad83-b09e83219174",
   "metadata": {},
   "outputs": [
    {
     "name": "stdout",
     "output_type": "stream",
     "text": [
      "[('bookings',), ('customerdetails',), ('expensiveordersview',), ('itemview',), ('menu',), ('menuitems',), ('orderdeliverystatus',), ('orders',), ('ordersview',), ('staffinformation',)]\n"
     ]
    }
   ],
   "source": [
    "show_tables_query = \"SHOW tables\" \n",
    "cursor1.execute(show_tables_query)\n",
    "results = cursor1.fetchall()\n",
    "print(results)"
   ]
  },
  {
   "cell_type": "code",
   "execution_count": 24,
   "id": "5965b944-d7ab-404c-ba1f-6ded7793b966",
   "metadata": {},
   "outputs": [
    {
     "name": "stdout",
     "output_type": "stream",
     "text": [
      "[]\n"
     ]
    }
   ],
   "source": [
    "contact_info_query = \"\"\"\n",
    "    select CustomerDetails.CustomerNames, CustomerDetails.ContactDetails, Orders.TotalCost\n",
    "    from CustomerDetails\n",
    "    inner join Orders using(CustomerID)\n",
    "    where Orders.TotalCost > 60\n",
    "\"\"\"\n",
    "cursor1.execute(contact_info_query)\n",
    "contact_results = cursor1.fetchall()\n",
    "print(contact_results)"
   ]
  },
  {
   "cell_type": "code",
   "execution_count": null,
   "id": "0b6abd13-07c9-4b5c-b747-1016bfe8560b",
   "metadata": {},
   "outputs": [],
   "source": []
  }
 ],
 "metadata": {
  "kernelspec": {
   "display_name": "Python 3 (ipykernel)",
   "language": "python",
   "name": "python3"
  },
  "language_info": {
   "codemirror_mode": {
    "name": "ipython",
    "version": 3
   },
   "file_extension": ".py",
   "mimetype": "text/x-python",
   "name": "python",
   "nbconvert_exporter": "python",
   "pygments_lexer": "ipython3",
   "version": "3.11.5"
  }
 },
 "nbformat": 4,
 "nbformat_minor": 5
}
